{
 "cells": [
  {
   "cell_type": "markdown",
   "id": "1cd37dfc",
   "metadata": {},
   "source": [
    "# integrate.ai API Sample Notebook"
   ]
  },
  {
   "cell_type": "markdown",
   "id": "d905507a",
   "metadata": {},
   "source": [
    "## Set environment variables (or replace inline) with your IAI credentials\n",
    "### Generate and manage this token in the UI, in the Tokens page"
   ]
  },
  {
   "cell_type": "code",
   "execution_count": null,
   "id": "c99153ce",
   "metadata": {},
   "outputs": [],
   "source": [
    "import os\n",
    "\n",
    "IAI_TOKEN = os.environ.get(\"IAI_TOKEN\")"
   ]
  },
  {
   "cell_type": "markdown",
   "id": "93309c89",
   "metadata": {},
   "source": [
    "## Authenticate to the integrate.ai api client"
   ]
  },
  {
   "cell_type": "code",
   "execution_count": null,
   "id": "e88e6fc0",
   "metadata": {},
   "outputs": [],
   "source": [
    "from integrate_ai_sdk.api import connect\n",
    "\n",
    "client = connect(token=IAI_TOKEN)"
   ]
  },
  {
   "cell_type": "code",
   "execution_count": null,
   "id": "7e3d3cc7",
   "metadata": {},
   "outputs": [],
   "source": [
    "# Set your AWS Credentials if you are generating temporary ones, else use the default profile credentials\n",
    "aws_creds = {\n",
    "    \"ACCESS_KEY\": os.environ.get(\"AWS_ACCESS_KEY_ID\"),\n",
    "    \"SECRET_KEY\": os.environ.get(\"AWS_SECRET_ACCESS_KEY\"),\n",
    "    \"SESSION_TOKEN\": os.environ.get(\"AWS_SESSION_TOKEN\"),\n",
    "    \"REGION\": os.environ.get(\"AWS_REGION\"),\n",
    "}"
   ]
  },
  {
   "attachments": {},
   "cell_type": "markdown",
   "id": "1691212b",
   "metadata": {},
   "source": [
    "## Create an EDA Session for exploring the datasets\n",
    "\n",
    "To create an EDA session, we specify a `dataset_config` dictionary indicating the columns to explore for each dataset. Here the empty list `[]` means to include all columns. \n",
    "\n",
    "For information more information on how to configure an EDA session, see the documentation [here](https://integrate-ai.gitbook.io/integrate.ai-user-documentation/tutorials/hfl-exploratory-data-analysis)."
   ]
  },
  {
   "cell_type": "code",
   "execution_count": null,
   "id": "95960477",
   "metadata": {},
   "outputs": [],
   "source": [
    "eda_data_config = {\"prl_silo0\": [], \"prl_silo1\": []}\n",
    "eda_config = {\"strategy\": {\"name\": \"EDAHistogram\", \"params\": {}}}\n",
    "prl_session_id = \"<prl session id>\""
   ]
  },
  {
   "cell_type": "code",
   "execution_count": null,
   "id": "abb87626",
   "metadata": {},
   "outputs": [],
   "source": [
    "eda_session = client.create_eda_session(\n",
    "    name=\"Testing notebook - EDA Intersect session\",\n",
    "    description=\"I am testing EDA on PRL session creation through a notebook\",\n",
    "    data_config=eda_data_config,\n",
    "    eda_mode=\"intersect\",\n",
    "    prl_session_id=prl_session_id,\n",
    ").start()\n",
    "\n",
    "eda_session.id"
   ]
  },
  {
   "cell_type": "markdown",
   "id": "1dcb602a",
   "metadata": {},
   "source": [
    "## Start an EDA Session using IAI client\n",
    "Follow the documentation on directions for how to install the [integrate_ai](https://pypi.org/project/integrate-ai/) package and the [sample data](https://integrate-ai.gitbook.io/integrate.ai-user-documentation/tutorials/end-user-tutorials/model-training-with-a-sample-local-dataset#prerequisites).<br/>\n",
    "Unzip the sample data to your `~/Downloads` directory, otherwise update the `data_path` below to point to the sample data."
   ]
  },
  {
   "cell_type": "code",
   "execution_count": null,
   "id": "b903ed2d",
   "metadata": {},
   "outputs": [],
   "source": [
    "# from integrate_ai_sdk.taskgroup.taskbuilder import aws as taskbuilder_fargate\n",
    "from integrate_ai_sdk.taskgroup.taskbuilder import aws as taskbuilder_aws\n",
    "from integrate_ai_sdk.taskgroup.base import SessionTaskGroup"
   ]
  },
  {
   "cell_type": "code",
   "execution_count": null,
   "id": "e462e1b5",
   "metadata": {},
   "outputs": [],
   "source": [
    "# Example data paths in s3\n",
    "train_path1 = \"s3://sample-data.integrate.ai/prl/prl_silo0.csv\"\n",
    "train_path2 = \"s3://sample-data.integrate.ai/prl/prl_silo1.csv\"\n",
    "test_path1 = \"s3://sample-data.integrate.ai/prl/prl_silo0.csv\"\n",
    "test_path2 = \"s3://sample-data.integrate.ai/prl/prl_silo1.csv\"\n",
    "\n",
    "# Specify the AWS parameters\n",
    "# cluster = \"iai-fl-server-ecs-cluster\"\n",
    "# task_definition = \"iai-fl-server-fargate-job\"\n",
    "model_storage = \"s3://iai-client.sample-data.integrate.ai\"\n",
    "security_group = \"iai_fl_server_security_group\"\n",
    "subnet_id = \"<subnet>\"  # Public subnet (routed via IGW)\n",
    "job_queue = \"iai-client-batch-job-queue\"\n",
    "job_def = \"iai-client-batch-job\""
   ]
  },
  {
   "cell_type": "code",
   "execution_count": null,
   "id": "80515e56",
   "metadata": {},
   "outputs": [],
   "source": [
    "# task_server = taskbuilder_aws.fargate(\n",
    "#  cluster=cluster)\n",
    "# task_definition=task_definition)\n",
    "\n",
    "tb = taskbuilder_aws.batch(job_queue=job_queue, aws_credentials=aws_creds, cpu_job_definition=job_def)"
   ]
  },
  {
   "attachments": {},
   "cell_type": "markdown",
   "id": "d8aa82c5",
   "metadata": {},
   "source": [
    "Important: The dataset_name specified in the task must be identical to the client_name specified in the PRL session."
   ]
  },
  {
   "cell_type": "code",
   "execution_count": null,
   "id": "8f73eb6b",
   "metadata": {},
   "outputs": [],
   "source": [
    "task_group_context = (\n",
    "    SessionTaskGroup(eda_session)\n",
    "    .add_task(tb.eda(dataset_path=train_path1, dataset_name=\"client_1\", vcpus=\"2\", memory=\"16384\", client=client))\n",
    "    .add_task(tb.eda(dataset_path=train_path2, dataset_name=\"client_2\", vcpus=\"2\", memory=\"16384\", client=client))\n",
    "    .start()\n",
    ")\n",
    "# .add_task(task_server.fls(subnet_id, security_group, storage_path=model_storage, client=client))\\"
   ]
  },
  {
   "cell_type": "code",
   "execution_count": null,
   "id": "82968e85",
   "metadata": {},
   "outputs": [],
   "source": [
    "# session available in group context after submission\n",
    "print(task_group_context.session.id)"
   ]
  },
  {
   "cell_type": "code",
   "execution_count": null,
   "id": "98b514a3",
   "metadata": {},
   "outputs": [],
   "source": [
    "# status of tasks submitted\n",
    "task_group_status = task_group_context.status()\n",
    "for task_status in task_group_status:\n",
    "    print(task_status)"
   ]
  },
  {
   "cell_type": "code",
   "execution_count": null,
   "id": "2ed3f8b5",
   "metadata": {},
   "outputs": [],
   "source": [
    "# Use to monitor if a session has completed successfully or has failed\n",
    "# You can modify the time to wait as per your specific task\n",
    "task_group_context.wait(300)"
   ]
  },
  {
   "attachments": {},
   "cell_type": "markdown",
   "id": "cdb551f1",
   "metadata": {},
   "source": [
    "## EDA Session Complete!\n",
    "Now you can analyze the datasets.\n"
   ]
  },
  {
   "cell_type": "code",
   "execution_count": null,
   "id": "8e097f3d",
   "metadata": {},
   "outputs": [],
   "source": [
    "results = eda_session.results()\n",
    "results"
   ]
  },
  {
   "cell_type": "code",
   "execution_count": null,
   "id": "8b26ffe4",
   "metadata": {},
   "outputs": [],
   "source": [
    "results.describe()"
   ]
  },
  {
   "cell_type": "code",
   "execution_count": null,
   "id": "b7b82e80",
   "metadata": {},
   "outputs": [],
   "source": [
    "results[\"client_2\"].describe()"
   ]
  },
  {
   "cell_type": "markdown",
   "id": "262716af",
   "metadata": {},
   "source": [
    "For categorical columns, other statistics like `unique_count`, `mode`, and `uniques` can be used for further exploration."
   ]
  },
  {
   "cell_type": "code",
   "execution_count": null,
   "id": "4fb03690",
   "metadata": {},
   "outputs": [],
   "source": [
    "results[\"client_2\"][[\"x10\", \"x11\"]].uniques()"
   ]
  },
  {
   "cell_type": "markdown",
   "id": "5ed79e64",
   "metadata": {},
   "source": [
    "Functions like `.mean()`, `.median()`, `.std()` can also be called individually. "
   ]
  },
  {
   "cell_type": "code",
   "execution_count": null,
   "id": "6f66be28",
   "metadata": {},
   "outputs": [],
   "source": [
    "results[\"client_2\"].mean()"
   ]
  },
  {
   "cell_type": "code",
   "execution_count": null,
   "id": "8bc1cfd9",
   "metadata": {},
   "outputs": [],
   "source": [
    "results[\"client_2\"][\"x1\"].mean()"
   ]
  },
  {
   "cell_type": "markdown",
   "id": "d0dcfff4",
   "metadata": {},
   "source": [
    "Histogram plots can be created using the `.plot_hist()` function."
   ]
  },
  {
   "cell_type": "code",
   "execution_count": null,
   "id": "44eef6aa",
   "metadata": {},
   "outputs": [],
   "source": [
    "saved_dataset_one_hist_plots = results[\"client_2\"].plot_hist()"
   ]
  },
  {
   "cell_type": "code",
   "execution_count": null,
   "id": "a9e48b19",
   "metadata": {},
   "outputs": [],
   "source": [
    "single_hist = results[\"client_2\"][\"x1\"].plot_hist()"
   ]
  }
 ],
 "metadata": {
  "kernelspec": {
   "display_name": "Python 3",
   "language": "python",
   "name": "python3"
  },
  "language_info": {
   "codemirror_mode": {
    "name": "ipython",
    "version": 3
   },
   "file_extension": ".py",
   "mimetype": "text/x-python",
   "name": "python",
   "nbconvert_exporter": "python",
   "pygments_lexer": "ipython3",
   "version": "3.10.6"
  },
  "vscode": {
   "interpreter": {
    "hash": "f4908f7b5ba0ade04b74e4e2b06098d89c93ed996a8041e510753b482fc79320"
   }
  }
 },
 "nbformat": 4,
 "nbformat_minor": 5
}

{
 "cells": [
  {
   "attachments": {},
   "cell_type": "markdown",
   "metadata": {},
   "source": [
    "# integrate.ai API Sample Notebook for User Scoped Tokens in integrate_ai_sdk"
   ]
  },
  {
   "attachments": {},
   "cell_type": "markdown",
   "metadata": {},
   "source": [
    "### Build connection with unscoped API token (can be obtained in integrate.ai UI)"
   ]
  },
  {
   "cell_type": "code",
   "execution_count": null,
   "metadata": {},
   "outputs": [],
   "source": [
    "from integrate_ai_sdk.auth import connect_to_auth_client\n",
    "from integrate_ai_sdk.auth.scopes import Scope\n",
    "import os\n",
    "\n",
    "IAI_TOKEN = os.environ.get(\"IAI_TOKEN\")\n",
    "auth_client = connect_to_auth_client(token=IAI_TOKEN)"
   ]
  },
  {
   "attachments": {},
   "cell_type": "markdown",
   "metadata": {},
   "source": [
    "### Create user and create scoped API token"
   ]
  },
  {
   "cell_type": "code",
   "execution_count": null,
   "metadata": {},
   "outputs": [],
   "source": [
    "user_name = \"demo-user\"\n",
    "user = auth_client.create_user(user_name)"
   ]
  },
  {
   "cell_type": "code",
   "execution_count": null,
   "metadata": {},
   "outputs": [],
   "source": [
    "token = auth_client.create_token(user_id=user_name, scopes=[Scope.create_session, Scope.read_user_session])\n",
    "print(token)"
   ]
  },
  {
   "cell_type": "code",
   "execution_count": null,
   "metadata": {},
   "outputs": [],
   "source": [
    "auth_client.token_info(token[\"token\"])"
   ]
  },
  {
   "attachments": {},
   "cell_type": "markdown",
   "metadata": {},
   "source": [
    "### Delete user and revoke scoped API token"
   ]
  },
  {
   "cell_type": "code",
   "execution_count": null,
   "metadata": {},
   "outputs": [],
   "source": [
    "auth_client.revoke_token(token[\"token_id\"])\n",
    "auth_client.delete_user(user_name)"
   ]
  }
 ],
 "metadata": {
  "kernelspec": {
   "display_name": "integrate_ai_sdk-hSC6g3kw",
   "language": "python",
   "name": "python3"
  },
  "language_info": {
   "codemirror_mode": {
    "name": "ipython",
    "version": 3
   },
   "file_extension": ".py",
   "mimetype": "text/x-python",
   "name": "python",
   "nbconvert_exporter": "python",
   "pygments_lexer": "ipython3",
   "version": "3.8.9"
  },
  "orig_nbformat": 4,
  "vscode": {
   "interpreter": {
    "hash": "bcfadc16c69b545d1505f07710ab97519a8a9fda914262ae47608ea4ca1be0e6"
   }
  }
 },
 "nbformat": 4,
 "nbformat_minor": 2
}
